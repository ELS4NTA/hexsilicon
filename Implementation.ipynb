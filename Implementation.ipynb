{
 "cells": [
  {
   "cell_type": "code",
   "execution_count": 1,
   "id": "initial_id",
   "metadata": {
    "collapsed": true,
    "ExecuteTime": {
     "end_time": "2024-03-12T17:56:56.349992Z",
     "start_time": "2024-03-12T17:56:53.274016Z"
    }
   },
   "outputs": [],
   "source": [
    "import numpy as np\n",
    "import pandas as pd\n",
    "import networkx as nx\n",
    "import scipy as sp"
   ]
  },
  {
   "cell_type": "code",
   "execution_count": 4,
   "id": "f8e2eba851fbcc5b",
   "metadata": {
    "ExecuteTime": {
     "end_time": "2024-03-10T02:05:44.442280Z",
     "start_time": "2024-03-10T02:05:44.414056Z"
    },
    "collapsed": false
   },
   "outputs": [
    {
     "name": "stdout",
     "output_type": "stream",
     "text": [
      "{'weight': 0.5, 'pheromone': 0.5}\n",
      "False\n",
      "[1, 3]\n",
      "True\n",
      "[(1, 2, {'weight': 0.5, 'pheromone': 0.5}), (2, 3, {'weight': 0.5, 'pheromone': 0.5})]\n",
      "[(1, 2, {'weight': 0.5, 'pheromone': 0.5}), (2, 3, {'weight': 0.5, 'pheromone': 0.5})]\n",
      "[[0.  0.5 0. ]\n",
      " [0.  0.  0.5]\n",
      " [0.  0.  0. ]]\n",
      "[3]\n",
      "   source  target  weight  pheromone\n",
      "0       1       2     0.5          1\n",
      "1       2       3     0.5          1\n",
      "2       3       4     0.5          1\n",
      "[1, 2, 3, 4]\n",
      "[(1, 2, {'weight': 0.5, 'pheromone': 1}), (2, 3, {'weight': 0.5, 'pheromone': 1}), (3, 4, {'weight': 0.5, 'pheromone': 1})]\n"
     ]
    }
   ],
   "source": [
    "graph = nx.Graph()\n",
    "\n",
    "graph.add_edge(1, 2, weight=0.5, pheromone=0.5)\n",
    "graph.add_edge(2, 3, weight=0.5, pheromone=0.5)\n",
    "graph.edges(data=True)\n",
    "print(graph.get_edge_data(1, 2))\n",
    "data = [(n, nbrdict) for n, nbrdict in graph.adjacency()]\n",
    "vecinos = list(graph.neighbors(2))\n",
    "print(graph.is_directed())\n",
    "print(vecinos)\n",
    "\n",
    "\n",
    "directed_graph = nx.DiGraph()\n",
    "\n",
    "directed_graph.add_edge(1, 2, weight=0.5, pheromone=0.5)\n",
    "directed_graph.add_edge(2, 3, weight=0.5, pheromone=0.5)\n",
    "print(directed_graph.is_directed())\n",
    "print(directed_graph.edges(data=True))\n",
    "print(np.array(directed_graph.edges(data=True)))\n",
    "adjM = nx.adjacency_matrix(directed_graph)\n",
    "print(np.array(adjM.todense()))\n",
    "vecinos = list(directed_graph.neighbors(2))\n",
    "print(vecinos)\n",
    "\n",
    "\n",
    "df = pd.DataFrame({'source': [1, 2, 3], 'target': [2, 3, 4], 'weight': [0.5, 0.5, 0.5]})\n",
    "# add pheromode column  \n",
    "df['pheromone'] = 1\n",
    "print(df)\n",
    "graph_df = nx.from_pandas_edgelist(df, 'source', 'target', ['weight', 'pheromone'], create_using=nx.DiGraph())\n",
    "print(graph_df.nodes)\n",
    "print(graph_df.edges(data=True))"
   ]
  },
  {
   "cell_type": "code",
   "execution_count": 30,
   "id": "968bf52c00bde82d",
   "metadata": {
    "ExecuteTime": {
     "end_time": "2024-03-10T00:25:04.789635Z",
     "start_time": "2024-03-10T00:25:04.711297Z"
    },
    "collapsed": false
   },
   "outputs": [],
   "source": [
    "from hexsilicon.swarm.algorithms.ACO import ACO"
   ]
  },
  {
   "cell_type": "code",
   "execution_count": 14,
   "id": "5b26f8a7c010dc3",
   "metadata": {
    "ExecuteTime": {
     "end_time": "2024-03-03T04:40:34.659565Z",
     "start_time": "2024-03-03T04:40:34.652570Z"
    },
    "collapsed": false
   },
   "outputs": [
    {
     "name": "stdout",
     "output_type": "stream",
     "text": [
      "ACO\n",
      "None\n"
     ]
    }
   ],
   "source": [
    "hyperparams = {'n_ants': 10, 'n_iterations': 100, 'alpha': 1, 'beta': 1, 'rho': 0.5, 'q': 1, 'pheromone_0': 1}\n",
    "\n",
    "a = ACO()"
   ]
  },
  {
   "cell_type": "code",
   "execution_count": 32,
   "id": "f623660917a581b",
   "metadata": {
    "ExecuteTime": {
     "end_time": "2024-03-10T01:31:57.454575Z",
     "start_time": "2024-03-10T01:31:55.926523Z"
    },
    "collapsed": false
   },
   "outputs": [
    {
     "ename": "TypeError",
     "evalue": "array() got an unexpected keyword argument 'size'",
     "output_type": "error",
     "traceback": [
      "\u001B[1;31m---------------------------------------------------------------------------\u001B[0m",
      "\u001B[1;31mTypeError\u001B[0m                                 Traceback (most recent call last)",
      "Cell \u001B[1;32mIn[32], line 1\u001B[0m\n\u001B[1;32m----> 1\u001B[0m \u001B[43mnp\u001B[49m\u001B[38;5;241;43m.\u001B[39;49m\u001B[43marray\u001B[49m\u001B[43m(\u001B[49m\u001B[43m[\u001B[49m\u001B[38;5;241;43m0\u001B[39;49m\u001B[43m,\u001B[49m\u001B[38;5;241;43m1\u001B[39;49m\u001B[43m,\u001B[49m\u001B[43m{\u001B[49m\u001B[38;5;124;43m'\u001B[39;49m\u001B[38;5;124;43mw\u001B[39;49m\u001B[38;5;124;43m'\u001B[39;49m\u001B[43m:\u001B[49m\u001B[38;5;241;43m1\u001B[39;49m\u001B[43m}\u001B[49m\u001B[43m]\u001B[49m\u001B[43m,\u001B[49m\u001B[43m \u001B[49m\u001B[43msize\u001B[49m\u001B[38;5;241;43m=\u001B[39;49m\u001B[38;5;241;43m3\u001B[39;49m\u001B[43m)\u001B[49m\n",
      "\u001B[1;31mTypeError\u001B[0m: array() got an unexpected keyword argument 'size'"
     ]
    }
   ],
   "source": []
  },
  {
   "cell_type": "code",
   "execution_count": 52,
   "id": "a6ede4cc93958e6b",
   "metadata": {
    "ExecuteTime": {
     "end_time": "2024-03-10T02:18:06.657591Z",
     "start_time": "2024-03-10T02:18:06.645940Z"
    },
    "collapsed": false
   },
   "outputs": [],
   "source": [
    "n_points = 10\n",
    "visited = np.zeros(n_points, dtype=bool)\n",
    "current_point = np.random.randint(n_points)\n",
    "visited[current_point] = True\n",
    "unvisited = np.where(np.logical_not(visited))[0]"
   ]
  },
  {
   "cell_type": "code",
   "execution_count": 53,
   "id": "ef0d7873c8d6437d",
   "metadata": {
    "ExecuteTime": {
     "end_time": "2024-03-10T02:18:08.056318Z",
     "start_time": "2024-03-10T02:18:08.048366Z"
    },
    "collapsed": false
   },
   "outputs": [
    {
     "name": "stdout",
     "output_type": "stream",
     "text": [
      "[False False False False False False  True False False False]\n",
      "6\n",
      "(array([0, 1, 2, 3, 4, 5, 7, 8, 9], dtype=int64),)\n"
     ]
    }
   ],
   "source": [
    "print(visited)\n",
    "print(current_point)\n",
    "print(unvisited)"
   ]
  },
  {
   "cell_type": "code",
   "execution_count": 4,
   "id": "a6c45314a9294e84",
   "metadata": {
    "collapsed": false,
    "ExecuteTime": {
     "end_time": "2024-03-12T17:57:54.207489Z",
     "start_time": "2024-03-12T17:57:54.190343Z"
    }
   },
   "outputs": [
    {
     "name": "stdout",
     "output_type": "stream",
     "text": [
      "   source  target  weight  pheromone\n",
      "0       1       2     0.5          1\n",
      "1       2       3     0.5          1\n",
      "2       3       4     0.5          1\n",
      "[1, 2, 3, 4]\n",
      "[(1, 2, {'weight': 0.5, 'pheromone': 1}), (2, 3, {'weight': 0.5, 'pheromone': 1}), (3, 4, {'weight': 0.5, 'pheromone': 1})]\n",
      "(1, 2)\n",
      "{'weight': 0.5, 'pheromone': 1}\n",
      "(2, 3)\n",
      "{'weight': 0.5, 'pheromone': 1}\n",
      "(3, 4)\n",
      "{'weight': 0.5, 'pheromone': 1}\n"
     ]
    }
   ],
   "source": [
    "df = pd.DataFrame({'source': [1, 2, 3], 'target': [2, 3, 4], 'weight': [0.5, 0.5, 0.5]})\n",
    "# add pheromode column  \n",
    "df['pheromone'] = 1\n",
    "graph_df = nx.from_pandas_edgelist(df, 'source', 'target', ['weight', 'pheromone'], create_using=nx.DiGraph())\n",
    "print(df)\n",
    "graph_df.get_edge_data()\n",
    "print(graph_df.nodes)\n",
    "print(graph_df.edges(data=True))\n",
    "for edge in graph_df.edges():\n",
    "    print(edge)\n",
    "    print(graph_df.get_edge_data(*edge))\n",
    "    edge[2]['pheromone'] = 0.5"
   ]
  },
  {
   "cell_type": "code",
   "outputs": [],
   "source": [],
   "metadata": {
    "collapsed": false
   },
   "id": "6689328e5ff8f93e"
  }
 ],
 "metadata": {
  "kernelspec": {
   "display_name": "Python 3",
   "language": "python",
   "name": "python3"
  },
  "language_info": {
   "codemirror_mode": {
    "name": "ipython",
    "version": 3
   },
   "file_extension": ".py",
   "mimetype": "text/x-python",
   "name": "python",
   "nbconvert_exporter": "python",
   "pygments_lexer": "ipython3",
   "version": "3.11.5"
  }
 },
 "nbformat": 4,
 "nbformat_minor": 5
}
