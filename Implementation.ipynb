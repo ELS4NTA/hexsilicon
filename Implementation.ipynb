{
 "cells": [
  {
   "cell_type": "code",
   "execution_count": 7,
   "id": "initial_id",
   "metadata": {
    "collapsed": true,
    "ExecuteTime": {
     "end_time": "2024-03-06T03:03:46.469763Z",
     "start_time": "2024-03-06T03:03:46.417049Z"
    }
   },
   "outputs": [
    {
     "ename": "ImportError",
     "evalue": "cannot import name 'ant_algorithm' from 'hexsilicon.swarm.naturalgroup.ant' (C:\\Users\\danie\\OneDrive - ESCUELA COLOMBIANA DE INGENIERIA JULIO GARAVITO\\University\\Noveno Semestre\\TDS1\\Fases\\Fase_3_Disenio_y_construccion_del_framework\\hexsilicon\\hexsilicon\\swarm\\naturalgroup\\ant.py)",
     "output_type": "error",
     "traceback": [
      "\u001B[1;31m---------------------------------------------------------------------------\u001B[0m",
      "\u001B[1;31mImportError\u001B[0m                               Traceback (most recent call last)",
      "Cell \u001B[1;32mIn[7], line 2\u001B[0m\n\u001B[0;32m      1\u001B[0m \u001B[38;5;28;01mfrom\u001B[39;00m \u001B[38;5;21;01mhexsilicon\u001B[39;00m\u001B[38;5;21;01m.\u001B[39;00m\u001B[38;5;21;01mswarm\u001B[39;00m\u001B[38;5;21;01m.\u001B[39;00m\u001B[38;5;21;01mnaturalgroup\u001B[39;00m\u001B[38;5;21;01m.\u001B[39;00m\u001B[38;5;21;01mant\u001B[39;00m \u001B[38;5;28;01mimport\u001B[39;00m AntGroup\n\u001B[1;32m----> 2\u001B[0m \u001B[38;5;28;01mfrom\u001B[39;00m \u001B[38;5;21;01mhexsilicon\u001B[39;00m\u001B[38;5;21;01m.\u001B[39;00m\u001B[38;5;21;01mswarm\u001B[39;00m\u001B[38;5;21;01m.\u001B[39;00m\u001B[38;5;21;01mnaturalgroup\u001B[39;00m\u001B[38;5;21;01m.\u001B[39;00m\u001B[38;5;21;01mant\u001B[39;00m \u001B[38;5;28;01mimport\u001B[39;00m ant_algorithm\n",
      "\u001B[1;31mImportError\u001B[0m: cannot import name 'ant_algorithm' from 'hexsilicon.swarm.naturalgroup.ant' (C:\\Users\\danie\\OneDrive - ESCUELA COLOMBIANA DE INGENIERIA JULIO GARAVITO\\University\\Noveno Semestre\\TDS1\\Fases\\Fase_3_Disenio_y_construccion_del_framework\\hexsilicon\\hexsilicon\\swarm\\naturalgroup\\ant.py)"
     ]
    }
   ],
   "source": [
    "import numpy as np\n",
    "\n",
    "from hexsilicon.swarm.naturalgroup.ant import AntGroup"
   ]
  },
  {
   "cell_type": "code",
   "execution_count": 4,
   "id": "968bf52c00bde82d",
   "metadata": {
    "collapsed": false,
    "ExecuteTime": {
     "end_time": "2024-03-06T03:01:23.890619Z",
     "start_time": "2024-03-06T03:01:23.836058Z"
    }
   },
   "outputs": [
    {
     "ename": "TypeError",
     "evalue": "AntGroup.ant_algorithm() missing 1 required positional argument: 'func'",
     "output_type": "error",
     "traceback": [
      "\u001B[1;31m---------------------------------------------------------------------------\u001B[0m",
      "\u001B[1;31mTypeError\u001B[0m                                 Traceback (most recent call last)",
      "Cell \u001B[1;32mIn[4], line 2\u001B[0m\n\u001B[0;32m      1\u001B[0m \u001B[38;5;66;03m# Implementando un nuevo algoritmo de optimización\u001B[39;00m\n\u001B[1;32m----> 2\u001B[0m \u001B[38;5;28;43;01mclass\u001B[39;49;00m\u001B[43m \u001B[49m\u001B[38;5;21;43;01mACO\u001B[39;49;00m\u001B[43m(\u001B[49m\u001B[43mAntGroup\u001B[49m\u001B[43m)\u001B[49m\u001B[43m:\u001B[49m\n\u001B[0;32m      4\u001B[0m \u001B[43m    \u001B[49m\u001B[38;5;28;43;01mdef\u001B[39;49;00m\u001B[43m \u001B[49m\u001B[38;5;21;43m__init__\u001B[39;49m\u001B[43m(\u001B[49m\u001B[38;5;28;43mself\u001B[39;49m\u001B[43m,\u001B[49m\u001B[43m \u001B[49m\u001B[43mhyperparams\u001B[49m\u001B[38;5;241;43m=\u001B[39;49m\u001B[38;5;28;43;01mNone\u001B[39;49;00m\u001B[43m,\u001B[49m\u001B[43m \u001B[49m\u001B[43mproblem\u001B[49m\u001B[38;5;241;43m=\u001B[39;49m\u001B[38;5;28;43;01mNone\u001B[39;49;00m\u001B[43m)\u001B[49m\u001B[43m:\u001B[49m\n\u001B[0;32m      5\u001B[0m \u001B[43m        \u001B[49m\u001B[38;5;28;43msuper\u001B[39;49m\u001B[43m(\u001B[49m\u001B[43m)\u001B[49m\u001B[38;5;241;43m.\u001B[39;49m\u001B[38;5;21;43m__init__\u001B[39;49m\u001B[43m(\u001B[49m\u001B[43mhyperparams\u001B[49m\u001B[43m,\u001B[49m\u001B[43m \u001B[49m\u001B[43mproblem\u001B[49m\u001B[43m)\u001B[49m\n",
      "Cell \u001B[1;32mIn[4], line 11\u001B[0m, in \u001B[0;36mACO\u001B[1;34m()\u001B[0m\n\u001B[0;32m      8\u001B[0m     \u001B[38;5;28mprint\u001B[39m(\u001B[38;5;124m\"\u001B[39m\u001B[38;5;124mACO\u001B[39m\u001B[38;5;124m\"\u001B[39m)\n\u001B[0;32m      9\u001B[0m     \u001B[38;5;28mprint\u001B[39m(\u001B[38;5;28mself\u001B[39m\u001B[38;5;241m.\u001B[39mhyperparams)\n\u001B[1;32m---> 11\u001B[0m \u001B[43m\u001B[49m\u001B[38;5;129;43m@AntGroup\u001B[39;49m\u001B[38;5;241;43m.\u001B[39;49m\u001B[43mant_algorithm\u001B[49m\n\u001B[0;32m     12\u001B[0m \u001B[43m\u001B[49m\u001B[38;5;28;43;01mdef\u001B[39;49;00m\u001B[43m \u001B[49m\u001B[38;5;21;43mupdate_swarm\u001B[39;49m\u001B[43m(\u001B[49m\u001B[38;5;28;43mself\u001B[39;49m\u001B[43m)\u001B[49m\u001B[43m:\u001B[49m\n\u001B[0;32m     13\u001B[0m \u001B[43m    \u001B[49m\u001B[38;5;28;43mprint\u001B[39;49m\u001B[43m(\u001B[49m\u001B[38;5;124;43m\"\u001B[39;49m\u001B[38;5;124;43mACO update_swarm\u001B[39;49m\u001B[38;5;124;43m\"\u001B[39;49m\u001B[43m)\u001B[49m\n\u001B[0;32m     15\u001B[0m \u001B[38;5;28;01mdef\u001B[39;00m \u001B[38;5;21mmovement_swarm\u001B[39m(\u001B[38;5;28mself\u001B[39m):\n",
      "\u001B[1;31mTypeError\u001B[0m: AntGroup.ant_algorithm() missing 1 required positional argument: 'func'"
     ]
    }
   ],
   "source": [
    "# Implementando un nuevo algoritmo de optimización\n",
    "class ACO(AntGroup):\n",
    "    \n",
    "    def __init__(self, hyperparams=None, problem=None):\n",
    "        super().__init__(hyperparams, problem)\n",
    "        if hyperparams is None:\n",
    "            hyperparams = {}\n",
    "        print(\"ACO\")\n",
    "        print(self.hyperparams)\n",
    "    \n",
    "    def update_swarm(self):\n",
    "        # se mueven asi...\n",
    "        # se actualizan asi...\n",
    "        print(\"ACO update_swarm\")\n",
    "\n",
    "    def movement_swarm(self):\n",
    "        pass\n",
    "\n",
    "    def metaheuristic(self):\n",
    "        pass\n",
    "\n",
    "    @inicializacion\n",
    "    def generate_initial_swarm(self):\n",
    "        pass\n"
   ]
  },
  {
   "cell_type": "code",
   "execution_count": 14,
   "id": "5b26f8a7c010dc3",
   "metadata": {
    "ExecuteTime": {
     "end_time": "2024-03-03T04:40:34.659565Z",
     "start_time": "2024-03-03T04:40:34.652570Z"
    },
    "collapsed": false
   },
   "outputs": [
    {
     "name": "stdout",
     "output_type": "stream",
     "text": [
      "ACO\n",
      "None\n"
     ]
    }
   ],
   "source": [
    "a = ACO()"
   ]
  },
  {
   "cell_type": "code",
   "execution_count": null,
   "id": "f623660917a581b",
   "metadata": {
    "collapsed": false
   },
   "outputs": [],
   "source": [
    "class AS(AntGroup):\n",
    "    \n",
    "    @inicializacion\n",
    "    def generate_initial_swarm(self):\n",
    "        # bla bla bla\n",
    "        distance = np.ones((self.hyperparams['n_ants'], self.problem.n_dim))\n",
    "        "
   ]
  }
 ],
 "metadata": {
  "kernelspec": {
   "display_name": "Python 3",
   "language": "python",
   "name": "python3"
  },
  "language_info": {
   "codemirror_mode": {
    "name": "ipython",
    "version": 2
   },
   "file_extension": ".py",
   "mimetype": "text/x-python",
   "name": "python",
   "nbconvert_exporter": "python",
   "pygments_lexer": "ipython2",
   "version": "2.7.6"
  }
 },
 "nbformat": 4,
 "nbformat_minor": 5
}
